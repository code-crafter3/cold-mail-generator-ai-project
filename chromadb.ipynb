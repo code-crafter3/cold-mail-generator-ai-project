{
 "cells": [
  {
   "cell_type": "code",
   "id": "initial_id",
   "metadata": {
    "collapsed": true,
    "ExecuteTime": {
     "end_time": "2025-06-23T15:00:00.537347Z",
     "start_time": "2025-06-23T15:00:00.126466Z"
    }
   },
   "source": [
    "import chromadb\n",
    "from sqlalchemy.orm.collections import collection"
   ],
   "outputs": [],
   "execution_count": 2
  },
  {
   "metadata": {
    "ExecuteTime": {
     "end_time": "2025-06-23T15:03:34.615838Z",
     "start_time": "2025-06-23T15:03:34.609602Z"
    }
   },
   "cell_type": "code",
   "source": [
    "client = chromadb.Client()\n",
    "collection = client.create_collection('my-collection')"
   ],
   "id": "e999d33c4f275501",
   "outputs": [],
   "execution_count": 4
  },
  {
   "metadata": {
    "ExecuteTime": {
     "end_time": "2025-06-23T15:05:03.402246Z",
     "start_time": "2025-06-23T15:05:03.155671Z"
    }
   },
   "cell_type": "code",
   "source": [
    "collection.add(\n",
    "    documents=[\n",
    "        'John wick is the great movie',\n",
    "        'Paris is the capital of France'\n",
    "    ],\n",
    "    ids = ['ids1', 'ids2']\n",
    ")"
   ],
   "id": "ce7ceca29c25ea8",
   "outputs": [],
   "execution_count": 5
  },
  {
   "metadata": {
    "ExecuteTime": {
     "end_time": "2025-06-23T15:07:23.950098Z",
     "start_time": "2025-06-23T15:07:23.943106Z"
    }
   },
   "cell_type": "code",
   "source": "collection.get(ids=['ids1'])",
   "id": "ce1dcce32cea5c4e",
   "outputs": [
    {
     "data": {
      "text/plain": [
       "{'ids': ['ids1'],\n",
       " 'embeddings': None,\n",
       " 'documents': ['John wick is the great movie'],\n",
       " 'uris': None,\n",
       " 'included': ['metadatas', 'documents'],\n",
       " 'data': None,\n",
       " 'metadatas': [None]}"
      ]
     },
     "execution_count": 13,
     "metadata": {},
     "output_type": "execute_result"
    }
   ],
   "execution_count": 13
  },
  {
   "metadata": {
    "ExecuteTime": {
     "end_time": "2025-06-23T15:06:53.200093Z",
     "start_time": "2025-06-23T15:06:53.040050Z"
    }
   },
   "cell_type": "code",
   "source": [
    "collection.query(\n",
    "    query_texts=['Where is the movie name'],\n",
    "    n_results=2\n",
    ")"
   ],
   "id": "6d2e3f06b39e2db2",
   "outputs": [
    {
     "data": {
      "text/plain": [
       "{'ids': [['ids1', 'ids2']],\n",
       " 'embeddings': None,\n",
       " 'documents': [['John wick is the great movie',\n",
       "   'Paris is the capital of France']],\n",
       " 'uris': None,\n",
       " 'included': ['metadatas', 'documents', 'distances'],\n",
       " 'data': None,\n",
       " 'metadatas': [[None, None]],\n",
       " 'distances': [[1.213268756866455, 1.8005712032318115]]}"
      ]
     },
     "execution_count": 11,
     "metadata": {},
     "output_type": "execute_result"
    }
   ],
   "execution_count": 11
  },
  {
   "metadata": {
    "ExecuteTime": {
     "end_time": "2025-06-23T15:09:51.333525Z",
     "start_time": "2025-06-23T15:09:51.326123Z"
    }
   },
   "cell_type": "code",
   "source": [
    "all_ids = collection.get()['ids']\n",
    "all_ids"
   ],
   "id": "62c3793dcf5e820",
   "outputs": [
    {
     "data": {
      "text/plain": [
       "['ids1', 'ids2']"
      ]
     },
     "execution_count": 16,
     "metadata": {},
     "output_type": "execute_result"
    }
   ],
   "execution_count": 16
  },
  {
   "metadata": {
    "ExecuteTime": {
     "end_time": "2025-06-23T15:10:00.898379Z",
     "start_time": "2025-06-23T15:10:00.894164Z"
    }
   },
   "cell_type": "code",
   "source": "collection.delete(ids=all_ids)",
   "id": "f8bf6bc448003df0",
   "outputs": [],
   "execution_count": 17
  },
  {
   "metadata": {
    "ExecuteTime": {
     "end_time": "2025-06-23T15:10:07.032230Z",
     "start_time": "2025-06-23T15:10:07.028213Z"
    }
   },
   "cell_type": "code",
   "source": "collection.get()",
   "id": "fa28c89760d142a9",
   "outputs": [
    {
     "data": {
      "text/plain": [
       "{'ids': [],\n",
       " 'embeddings': None,\n",
       " 'documents': [],\n",
       " 'uris': None,\n",
       " 'included': ['metadatas', 'documents'],\n",
       " 'data': None,\n",
       " 'metadatas': []}"
      ]
     },
     "execution_count": 18,
     "metadata": {},
     "output_type": "execute_result"
    }
   ],
   "execution_count": 18
  },
  {
   "metadata": {},
   "cell_type": "code",
   "outputs": [],
   "execution_count": null,
   "source": "",
   "id": "79673f3d138e18df"
  }
 ],
 "metadata": {
  "kernelspec": {
   "display_name": "Python 3",
   "language": "python",
   "name": "python3"
  },
  "language_info": {
   "codemirror_mode": {
    "name": "ipython",
    "version": 2
   },
   "file_extension": ".py",
   "mimetype": "text/x-python",
   "name": "python",
   "nbconvert_exporter": "python",
   "pygments_lexer": "ipython2",
   "version": "2.7.6"
  }
 },
 "nbformat": 4,
 "nbformat_minor": 5
}
