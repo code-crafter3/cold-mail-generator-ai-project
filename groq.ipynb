{
 "cells": [
  {
   "cell_type": "code",
   "id": "initial_id",
   "metadata": {
    "collapsed": true,
    "ExecuteTime": {
     "end_time": "2025-06-24T06:24:46.704756Z",
     "start_time": "2025-06-24T06:24:46.342775Z"
    }
   },
   "source": [
    "import os\n",
    "from langchain_groq import ChatGroq\n",
    "from dotenv import load_dotenv\n",
    "load_dotenv()"
   ],
   "outputs": [
    {
     "data": {
      "text/plain": [
       "True"
      ]
     },
     "execution_count": 1,
     "metadata": {},
     "output_type": "execute_result"
    }
   ],
   "execution_count": 1
  },
  {
   "metadata": {
    "ExecuteTime": {
     "end_time": "2025-06-24T10:32:59.552375Z",
     "start_time": "2025-06-24T10:32:59.550138Z"
    }
   },
   "cell_type": "code",
   "source": "",
   "id": "f08f1c144b63fd46",
   "outputs": [],
   "execution_count": null
  },
  {
   "metadata": {
    "ExecuteTime": {
     "end_time": "2025-06-24T06:24:47.105905Z",
     "start_time": "2025-06-24T06:24:46.958349Z"
    }
   },
   "cell_type": "code",
   "source": [
    "llm = ChatGroq(\n",
    "    model=\"llama-3.1-8b-instant\",\n",
    "    temperature=0\n",
    ")"
   ],
   "id": "7cfa1e11bf9e6e03",
   "outputs": [],
   "execution_count": 3
  },
  {
   "metadata": {
    "ExecuteTime": {
     "end_time": "2025-06-24T06:24:47.749180Z",
     "start_time": "2025-06-24T06:24:47.117434Z"
    }
   },
   "cell_type": "code",
   "source": "res = llm.invoke(\"Who is first walk on the moon?\")",
   "id": "2209f7101d3e2d45",
   "outputs": [],
   "execution_count": 4
  },
  {
   "metadata": {
    "ExecuteTime": {
     "end_time": "2025-06-24T06:24:48.480643Z",
     "start_time": "2025-06-24T06:24:48.477323Z"
    }
   },
   "cell_type": "code",
   "source": "res.content",
   "id": "c0ec94c8693a9d7b",
   "outputs": [
    {
     "data": {
      "text/plain": [
       "\"The first walk on the moon was made by Neil Armstrong. He stepped out of the lunar module Eagle and onto the moon's surface on July 20, 1969, during the Apollo 11 mission.\""
      ]
     },
     "execution_count": 5,
     "metadata": {},
     "output_type": "execute_result"
    }
   ],
   "execution_count": 5
  },
  {
   "metadata": {
    "ExecuteTime": {
     "end_time": "2025-06-24T06:30:33.318278Z",
     "start_time": "2025-06-24T06:30:31.259790Z"
    }
   },
   "cell_type": "code",
   "source": [
    "from langchain_community.document_loaders import WebBaseLoader\n",
    "url = 'https://careers.nike.com/accounting-admin-deer-park/job/R-64345'\n",
    "loader = WebBaseLoader(url)\n",
    "page_data = loader.load().pop().page_content"
   ],
   "id": "4780bdfb6f0ed5ad",
   "outputs": [],
   "execution_count": 14
  },
  {
   "metadata": {
    "ExecuteTime": {
     "end_time": "2025-06-24T06:30:34.216387Z",
     "start_time": "2025-06-24T06:30:34.211782Z"
    }
   },
   "cell_type": "code",
   "source": [
    "import re\n",
    "page_data = re.sub(\"\\n+\", \"\\n\", page_data)\n",
    "page_data = re.sub(\" +\", \" \", page_data).strip()\n",
    "\n",
    "print(page_data)"
   ],
   "id": "b190f7cd350d5ec5",
   "outputs": [
    {
     "name": "stdout",
     "output_type": "stream",
     "text": [
      "Accounting Admin - Deer Park\n",
      "Skip to main content\n",
      "Open Virtual Assistant\n",
      "Home\n",
      "Career Areas\n",
      "Total Rewards\n",
      "Life@Nike\n",
      "Purpose\n",
      "Language\n",
      "Select a Language\n",
      " Deutsch \n",
      " English \n",
      " Español (España) \n",
      " Español (América Latina) \n",
      " Français \n",
      " Italiano \n",
      " Nederlands \n",
      " Polski \n",
      " Tiếng Việt \n",
      " Türkçe \n",
      " 简体中文 \n",
      " 繁體中文 \n",
      " עִברִית \n",
      " 한국어 \n",
      " 日本語 \n",
      "Careers\n",
      "Close Menu\n",
      "Careers\n",
      "Chat\n",
      " Home\n",
      " \n",
      " Career Areas\n",
      " \n",
      " Total Rewards\n",
      " \n",
      " Life@Nike\n",
      " \n",
      " Purpose\n",
      " \n",
      "Jordan Careers\n",
      "Converse Careers\n",
      "Language\n",
      "Menu\n",
      "Return to Previous Menu\n",
      "Select a Language\n",
      " Deutsch \n",
      " English \n",
      " Español (España) \n",
      " Español (América Latina) \n",
      " Français \n",
      " Italiano \n",
      " Nederlands \n",
      " Polski \n",
      " Tiếng Việt \n",
      " Türkçe \n",
      " 简体中文 \n",
      " 繁體中文 \n",
      " עִברִית \n",
      " 한국어 \n",
      " 日本語 \n",
      " Back to Search\n",
      " \n",
      "Accounting Admin - Deer Park\n",
      "Categories ID\n",
      "Categories URL\n",
      "Position Type\n",
      "Full Time\n",
      "Date Posted\n",
      "Primary Quest ID\n",
      "Second Quest ID\n",
      "Job Classification\n",
      "Career area\n",
      "Retail Stores\n",
      "Location\n",
      "102 Arches Cir, Deer Park, New York 11729, United States\n",
      "Job ID\n",
      "R-64345\n",
      " Apply Now\n",
      " \n",
      "Share Job\n",
      "Share Job Posting\n",
      "Facebook\n",
      "Opens In A New Tab\n",
      "LinkedIn\n",
      "Link Opens In New Window\n",
      "Email\n",
      "Close-Medium (Default Size)-icon\n",
      "Close Menu\n",
      "Become a Part of the NIKE, Inc. Team\n",
      "NIKE, Inc. does more than outfit the world’s best athletes. It is a place to explore\n",
      " potential, obliterate boundaries\n",
      " and push out the edges of what can be. The company looks for people who can grow, think,\n",
      " dream and create. Its\n",
      " culture thrives by embracing diversity and rewarding imagination. The brand seeks achievers,\n",
      " leaders and\n",
      " visionaries. At NIKE, Inc. it’s about each person bringing skills and passion to a\n",
      " challenging and constantly\n",
      " evolving game.\n",
      "The hourly rate for this position ranges from $21.50 to $27.95. Actual pay rate will vary based on a candidate's location, qualifications, skills and experience.Information about benefits can be found here.Location & Store Type: Nike Factory Store Deer ParkAddress: Deer Park, NYStarting Pay Rate:  Hours: Full Time – 34-40 hours per week, including nights and weekendsWe believe that if you have a body, you are an athlete, which is why when you join our team as an Accounting Admin, you are referred to as an Athlete. Are you ready to embrace it? Let’s do it.Lace Up as a Nike Retail Accounting AdminAs a Nike Retail Accounting Admin, you’re the face of NIKE.  Enjoy high-volume and a fast pace as your diverse experience and perspective helps guide customers in making the best decisions for them.  You’ll work with your team to focus on customer service and get to the win the right way.  When we say team, we mean it. We go after goals together. We support your bold ideas — and encourage you to try them out. You impact our customers' experiences daily. It's more than getting the product from door to floor; it's being part of the first-time customers find their dream pair. Those iconic moments – that's our culture. Bring your just-do-it attitude, and let's be game-changers together.  Be Rewarded for a Job Well DoneDiscounts for you and your family from Nike, Converse and Jordan up to 50% offAccrued Paid Time Off and Holiday PayAll full-time and part-time employees working 20 hours or more per week are eligible for 401(k) Plan, CERA, Employee Assistance Program, Mental and Emotional Health, Financial Coaching and Education, Child Development Support and Caregiving Benefits starting on the day you're hiredFull-time and part-time employees working 20 hours or more per week are eligible for Health Savings Accounts and Flexible Savings Accounts after 12 months of continuous employmentThe opportunity to buy Nike stock at a discount through our Employee Stock Purchase Plan (ESPP) Access to support through Optum Employee Assistance Program at no cost for you and your familyTuition Reimbursement up to $5,250 per calendar year for full-time Retail AssociatesPutting Your Best Foot ForwardMust be at least 18 (U.S)1 year of retail or consumer service experienceFlexibility to work nights, weekends and holidays based on store needsProficient knowledge of office practices, procedures, and equipment Intermediate skills in Microsoft Office products including Word and Excel Ability to learn and train on the latest products and technologies Ability to communicate in EnglishProficient knowledge of office practices, procedures, and equipmentIntermediate skills in Microsoft Office products including Word and ExcelAbility to use the Internet/Intranet as a resource for department work activitiesStrong customer service skills and the ability to exercise a high degree of professionalismStrong attention to detail and deadlinesWhat You're Responsible For  ·       Administer advanced cashiering tasks including all cash-related opening/closing duties, assembling/verifying cash deposits, counting tills, and ensuring that cashiers have adequate change on hand·       Support scheduling through zone chart report generation and identifying/aiding with opportunities in daily associate coverage·       Review associate tech functionality and store facilities to help troubleshoot, submit service tickets, and track ticket statuses·       Ability to perform standard cashiering duties and resolve irregular or difficult transactionsPerform other support tasks as required including but not limited to processing staff uniform transactions, answering telephone calls, ordering supplies, and submitting change ordersNIKE, Inc. is committed to employing a diverse workforce. Qualified applicants will receive consideration without regard to race, color, religion, sex, national origin, age, sexual orientation, gender identity, gender expression, veteran status, or disability. For more information, please refer to Equal Employment Opportunity is The Law\n",
      "NIKE, Inc. is a growth company that looks for team members to grow with it. Nike offers a\n",
      " generous total rewards\n",
      " package, casual work environment, a diverse and inclusive culture, and an electric\n",
      " atmosphere for professional\n",
      " development. No matter the location, or the role, every Nike employee shares one galvanizing\n",
      " mission: To bring\n",
      " inspiration and innovation to every athlete* in the world.\n",
      "NIKE, Inc. is an equal opportunity employer. Qualified applicants will receive\n",
      " consideration without\n",
      " regard to race, color, religion, sex, national origin, age, sexual orientation, gender\n",
      " identity, gender expression,\n",
      " veteran status, or disability.\n",
      " Apply Now\n",
      " \n",
      "Share Job\n",
      "Share Job Posting\n",
      "Faceboox\n",
      "Opens In A New Tab\n",
      "LinkedIn\n",
      "Link Opens In New Window\n",
      "Email\n",
      "Close-Medium (Default Size)-icon\n",
      "Close Menu\n",
      "What You Can Expect\n",
      "OUR HIRING GAME PLAN\n",
      "01 Apply\n",
      "Our teams are made up of diverse skillsets, knowledge bases, inputs, ideas and backgrounds.\n",
      " We want you to find your fit – review job descriptions, departments and teams to discover\n",
      " the role for you.\n",
      "02 Meet a Recruiter or Take an Assessment\n",
      "If selected for a corporate role, a recruiter will reach out to start your interview process\n",
      " and be your main contact\n",
      " throughout the process. For retail roles, you’ll complete an interactive assessment that\n",
      " includes a chat and quizzes and\n",
      " takes about 10-20 minutes to complete.  No matter the role, we want to learn about you – the\n",
      " whole you – so don’t shy\n",
      " away from how you approach world-class service and what makes you unique.\n",
      "03 Interview\n",
      "Go into this stage confident by doing your research, understanding what we are looking for\n",
      " and being prepared for\n",
      " questions that are set up to learn more about you, and your background.\n",
      "Home\n",
      "About Us\n",
      "Contact\n",
      "Talent Community\n",
      "Terms\n",
      " \n",
      " \n",
      " Nike Applicant Privacy Policy\n",
      " \n",
      "We offer a number of accommodations to complete our interview process including screen readers, sign language interpreters,\n",
      " accessible and single location for in-person interviews, closed captioning, and other reasonable modifications as\n",
      " needed.\n",
      "If you discover, as you navigate our application process, that you need assistance or an accommodation due to a\n",
      " disability, please contact us at +1 503-671-4156 and include your full name, best way to reach you, and the\n",
      " accommodation you request to assist with the application process.\n",
      "For more information, please refer to Equal Employment\n",
      " Opportunity is The Law.\n",
      "© Nike, Inc. All Rights Reserved\n",
      "Careers\n",
      "Chat\n",
      "Chat with our AI Assistant\n"
     ]
    }
   ],
   "execution_count": 15
  },
  {
   "metadata": {
    "ExecuteTime": {
     "end_time": "2025-06-24T06:28:26.425123Z",
     "start_time": "2025-06-24T06:28:26.421799Z"
    }
   },
   "cell_type": "code",
   "source": [
    "from langchain_core.prompts import PromptTemplate\n",
    "\n",
    "prompt_extract = PromptTemplate.from_template(\n",
    "    \"\"\"\n",
    "    ### SCRAPED TEXT FROM WEBSITE:\n",
    "    {page_data}\n",
    "    ### INSTRUCTION:\n",
    "    The scraped text is from the career's page of a website.\n",
    "    Your job is to extract the job postings and return them in JSON format containing the\n",
    "    following keys: `role`, `experience`, `skills` and `description`.\n",
    "    Only return the valid JSON.\n",
    "    ### VALID JSON (NO PREAMBLE):\n",
    "    \"\"\"\n",
    ")\n",
    "chain_extract = prompt_extract | llm"
   ],
   "id": "a68475b9bd32ac54",
   "outputs": [],
   "execution_count": 10
  },
  {
   "metadata": {
    "ExecuteTime": {
     "end_time": "2025-06-24T06:30:44.565972Z",
     "start_time": "2025-06-24T06:30:42.680382Z"
    }
   },
   "cell_type": "code",
   "source": "res = chain_extract.invoke(input= {'page_data': page_data})",
   "id": "917a774e0b787819",
   "outputs": [],
   "execution_count": 16
  },
  {
   "metadata": {
    "ExecuteTime": {
     "end_time": "2025-06-24T06:46:49.994815Z",
     "start_time": "2025-06-24T06:46:49.975325Z"
    }
   },
   "cell_type": "code",
   "source": [
    "from langchain_core.output_parsers import JsonOutputParser\n",
    "json_parser = JsonOutputParser()\n",
    "\n",
    "result = json_parser.parse(res.content)\n",
    "if type(result) == list:\n",
    "    result = result[0]\n",
    "print(result)"
   ],
   "id": "948af489f36b754c",
   "outputs": [
    {
     "name": "stdout",
     "output_type": "stream",
     "text": [
      "{'role': 'Accounting Admin - Deer Park', 'experience': '1 year of retail or consumer service experience', 'skills': ['Proficient knowledge of office practices, procedures, and equipment', 'Intermediate skills in Microsoft Office products including Word and Excel', 'Ability to learn and train on the latest products and technologies', 'Ability to communicate in English', 'Strong customer service skills and the ability to exercise a high degree of professionalism', 'Strong attention to detail and deadlines'], 'description': \"As a Nike Retail Accounting Admin, you’re the face of NIKE. Enjoy high-volume and a fast pace as your diverse experience and perspective helps guide customers in making the best decisions for them. You’ll work with your team to focus on customer service and get to the win the right way. When we say team, we mean it. We go after goals together. We support your bold ideas — and encourage you to try them out. You impact our customers' experiences daily. It's more than getting the product from door to floor; it's being part of the first-time customers find their dream pair. Those iconic moments – that's our culture. Bring your just-do-it attitude, and let's be game-changers together.\"}\n"
     ]
    }
   ],
   "execution_count": 32
  },
  {
   "metadata": {
    "ExecuteTime": {
     "end_time": "2025-06-24T07:18:03.984044Z",
     "start_time": "2025-06-24T07:18:03.788650Z"
    }
   },
   "cell_type": "code",
   "source": [
    "import pandas as pd\n",
    "df = pd.read_csv('app/resource/my_portfolio.csv')\n",
    "df.head()"
   ],
   "id": "2c34fe7338d1c263",
   "outputs": [
    {
     "data": {
      "text/plain": [
       "                           Techstack                                  Links\n",
       "0            React, Node.js, MongoDB    https://example.com/react-portfolio\n",
       "1           Angular,.NET, SQL Server  https://example.com/angular-portfolio\n",
       "2  Vue.js, Ruby on Rails, PostgreSQL      https://example.com/vue-portfolio\n",
       "3              Python, Django, MySQL   https://example.com/python-portfolio\n",
       "4          Java, Spring Boot, Oracle     https://example.com/java-portfolio"
      ],
      "text/html": [
       "<div>\n",
       "<style scoped>\n",
       "    .dataframe tbody tr th:only-of-type {\n",
       "        vertical-align: middle;\n",
       "    }\n",
       "\n",
       "    .dataframe tbody tr th {\n",
       "        vertical-align: top;\n",
       "    }\n",
       "\n",
       "    .dataframe thead th {\n",
       "        text-align: right;\n",
       "    }\n",
       "</style>\n",
       "<table border=\"1\" class=\"dataframe\">\n",
       "  <thead>\n",
       "    <tr style=\"text-align: right;\">\n",
       "      <th></th>\n",
       "      <th>Techstack</th>\n",
       "      <th>Links</th>\n",
       "    </tr>\n",
       "  </thead>\n",
       "  <tbody>\n",
       "    <tr>\n",
       "      <th>0</th>\n",
       "      <td>React, Node.js, MongoDB</td>\n",
       "      <td>https://example.com/react-portfolio</td>\n",
       "    </tr>\n",
       "    <tr>\n",
       "      <th>1</th>\n",
       "      <td>Angular,.NET, SQL Server</td>\n",
       "      <td>https://example.com/angular-portfolio</td>\n",
       "    </tr>\n",
       "    <tr>\n",
       "      <th>2</th>\n",
       "      <td>Vue.js, Ruby on Rails, PostgreSQL</td>\n",
       "      <td>https://example.com/vue-portfolio</td>\n",
       "    </tr>\n",
       "    <tr>\n",
       "      <th>3</th>\n",
       "      <td>Python, Django, MySQL</td>\n",
       "      <td>https://example.com/python-portfolio</td>\n",
       "    </tr>\n",
       "    <tr>\n",
       "      <th>4</th>\n",
       "      <td>Java, Spring Boot, Oracle</td>\n",
       "      <td>https://example.com/java-portfolio</td>\n",
       "    </tr>\n",
       "  </tbody>\n",
       "</table>\n",
       "</div>"
      ]
     },
     "execution_count": 34,
     "metadata": {},
     "output_type": "execute_result"
    }
   ],
   "execution_count": 34
  },
  {
   "metadata": {
    "ExecuteTime": {
     "end_time": "2025-06-24T07:25:26.770349Z",
     "start_time": "2025-06-24T07:25:23.108806Z"
    }
   },
   "cell_type": "code",
   "source": [
    "import chromadb\n",
    "import uuid\n",
    "client = chromadb.PersistentClient('vectorstore')\n",
    "collection = client.get_or_create_collection(name='portfolio')\n",
    "if not collection.count():\n",
    "    for _, row in df.iterrows():\n",
    "        collection.add(\n",
    "            documents=row['Techstack'],\n",
    "            metadatas={'link': row['Links']},\n",
    "            ids=[str(uuid.uuid4())]\n",
    "        )"
   ],
   "id": "b778e6cfc9b22e2e",
   "outputs": [],
   "execution_count": 37
  },
  {
   "metadata": {
    "ExecuteTime": {
     "end_time": "2025-06-24T07:29:22.117378Z",
     "start_time": "2025-06-24T07:29:21.910891Z"
    }
   },
   "cell_type": "code",
   "source": "collection.query(query_texts=[\"Expertise in React\", 'Experience in python'], n_results=3)[\"metadatas\"]",
   "id": "b22348a602920121",
   "outputs": [
    {
     "data": {
      "text/plain": [
       "[[{'link': 'https://example.com/react-portfolio'},\n",
       "  {'link': 'https://example.com/react-native-portfolio'},\n",
       "  {'link': 'https://example.com/full-stack-js-portfolio'}],\n",
       " [{'link': 'https://example.com/ml-python-portfolio'},\n",
       "  {'link': 'https://example.com/python-portfolio'},\n",
       "  {'link': 'https://example.com/magento-portfolio'}]]"
      ]
     },
     "execution_count": 41,
     "metadata": {},
     "output_type": "execute_result"
    }
   ],
   "execution_count": 41
  },
  {
   "metadata": {},
   "cell_type": "code",
   "outputs": [],
   "execution_count": null,
   "source": "",
   "id": "7fedf9deb313e30d"
  }
 ],
 "metadata": {
  "kernelspec": {
   "display_name": "Python 3",
   "language": "python",
   "name": "python3"
  },
  "language_info": {
   "codemirror_mode": {
    "name": "ipython",
    "version": 2
   },
   "file_extension": ".py",
   "mimetype": "text/x-python",
   "name": "python",
   "nbconvert_exporter": "python",
   "pygments_lexer": "ipython2",
   "version": "2.7.6"
  }
 },
 "nbformat": 4,
 "nbformat_minor": 5
}
